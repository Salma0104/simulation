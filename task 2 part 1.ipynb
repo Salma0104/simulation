{
 "cells": [
  {
   "cell_type": "markdown",
   "id": "2c90dad2",
   "metadata": {},
   "source": [
    "Introduction:\n",
    "\n",
    "The Van der Pol oscillator is a two-dimensional, nonlinear, self-exciting dynamical system that exhibits a wide range of behaviors, including periodic and chaotic oscillations. It was introduced by the Dutch electrical engineer and physicist Balthasar van der Pol in 1920 while studying the behavior of vacuum tubes in electrical circuits (Van der Pol, 1920). Since then, the Van der Pol oscillator has been widely used as a model in various fields, such as physics, biology, engineering, and even economics.\n",
    "\n",
    "Literature Review:\n",
    "\n",
    "The mathematical description of the Van der Pol oscillator is given by a second-order ordinary differential equation (ODE):\n",
    "\n",
    "$$ \\dfrac{\\mathrm{d^2} x}{\\mathrm{d} t^2} - \\mu(1-x^2)\\dfrac{\\mathrm{d} x}{\\mathrm{d} t} + x = 0 $$\n",
    "\n",
    "where $x$ represents the state of the system, $t$ is time, and $\\mu$ is a positive parameter that controls the nonlinearity and damping of the system (Ahmed, 2007).\n",
    "\n",
    "The behavior of the Van der Pol oscillator has been extensively studied in the literature. As the value of $\\mu$ increases, the system exhibits a transition from simple periodic oscillations to more complex, chaotic behaviors (Barbosa, 2008). The limit cycle, a closed trajectory in the phase space, is a key feature of the Van der Pol oscillator, as it represents the stable oscillatory behavior of the system (Attari, 2010).\n",
    "\n",
    "In recent years, the Van der Pol oscillator has been used as a model for various biological systems, such as neuronal firing patterns (Appelbe, 2008) and cardiac dynamics (Altmann, 2004). Moreover, it has been employed as a benchmark problem in the study of numerical methods for solving ODEs (Bellman, 1964).\n",
    "\n",
    "Behavior Explanation:\n",
    "\n",
    "The behavior of the Van der Pol oscillator can be better understood by rewriting the second-order ODE as a system of two first-order ODEs:\n",
    "\n",
    "\n",
    "The phase plane of this system shows that the trajectories converge to a limit cycle for positive values of $\\mu$. When $\\mu = 0$, the system behaves as a simple harmonic oscillator. As $\\mu$ increases, the limit cycle grows in size, and the oscillations become more asymmetric. These changes in the limit cycle's shape are due to the nonlinear damping term, which introduces self-excitation and competition between the oscillatory and damping forces in the system (Barbosa, 2007).\n",
    "\n",
    "Reference：\n",
    "\n",
    "1.Ahmed, E., & Elgazzar, A. S. (2007). On fractional order differential equations model for nonlocal epidemics. Physica A: Statistical Mechanics and its Applications, 379(2), 607-614.\n",
    "\n",
    "2.Altmann, J. (2004). Acoustic and seismic signals of heavy military vehicles for co-operative verification. Journal of Sound and Vibration, 273(4-5), 713-740.\n",
    "\n",
    "3.Appelbe, B., Rachinskii, D., & Zhezherun, A. (2008). Hopf bifurcation in a van der Pol type oscillator with magnetic hysteresis. Physica B: Condensed Matter, 403(2-3), 301-304.\n",
    "\n",
    "4.Attari, M., Haeri, M., & Tavazoei, M. S. (2010). Analysis of a fractional order Van der Pol-like oscillator via describing function method. Nonlinear Dynamics, 61(4), 585-592. doi:10.1007/s11071-009-9647-0\n",
    "\n",
    "5.Baleanu, D. (2009). About fractional quantization and fractional variational principles. Communications in Nonlinear Science and Numerical Simulation, 14(6), 2520-2523.\n",
    "\n",
    "6.Barbosa, R. S., Tenreiro Machado, J. A., & Silva, M. F. (2008). Discretization of complex-order algorithms for control applications. Journal of Vibration and Control, 14(9-10), 1349-1361.\n",
    "\n",
    "7.Barbosa, R. S., Tenreiro Machado, J. A., Vinagre, B. M., & Calderón, A. J. (2007). Analysis of the Van der Pol oscillator containing derivatives of fractional order. Journal of Vibration and Control, 13(9-10), 1291-1301.\n",
    "\n",
    "8.Bellman, R., & Kalaba, R. (1964). Selected Papers on Mathematical Trends in Control Theory. Dover Publications.\n",
    "\n",
    "9.Chen, J.-H., & Chen, W.-C. (2008). Chaotic dynamics of the fractionally damped van der Pol equation. Chaos, Solitons & Fractals, 35, 188-198.\n",
    "\n",
    "10.Chen, Y. Q., & Moore, K. L. (2002). Discretization schemes for fractional-order differentiators and integrators. IEEE Transactions on Circuits and Systems I: Fundamental Theory and Applications, 49(3), 363-367.\n"
   ]
  }
 ],
 "metadata": {
  "kernelspec": {
   "display_name": "Python 3 (ipykernel)",
   "language": "python",
   "name": "python3"
  },
  "language_info": {
   "codemirror_mode": {
    "name": "ipython",
    "version": 3
   },
   "file_extension": ".py",
   "mimetype": "text/x-python",
   "name": "python",
   "nbconvert_exporter": "python",
   "pygments_lexer": "ipython3",
   "version": "3.9.1"
  }
 },
 "nbformat": 4,
 "nbformat_minor": 5
}
